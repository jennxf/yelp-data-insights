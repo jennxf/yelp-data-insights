{
 "cells": [
  {
   "cell_type": "code",
   "execution_count": 22,
   "metadata": {
    "collapsed": false
   },
   "outputs": [],
   "source": [
    "import pandas as pd\n",
    "pd.set_option('display.notebook_repr_html', True)\n",
    "%matplotlib inline  "
   ]
  },
  {
   "cell_type": "markdown",
   "metadata": {},
   "source": [
    "## Read CSV into a DataFrame"
   ]
  },
  {
   "cell_type": "code",
   "execution_count": 11,
   "metadata": {
    "collapsed": true
   },
   "outputs": [],
   "source": [
    "df = pd.read_csv('charlotte_data_joined.csv')"
   ]
  },
  {
   "cell_type": "markdown",
   "metadata": {},
   "source": [
    "## Check the data for missing values"
   ]
  },
  {
   "cell_type": "code",
   "execution_count": null,
   "metadata": {
    "collapsed": false
   },
   "outputs": [],
   "source": [
    "#check if important cols have missing values\n",
    "df.isnull().any()"
   ]
  },
  {
   "cell_type": "code",
   "execution_count": null,
   "metadata": {
    "collapsed": false
   },
   "outputs": [],
   "source": [
    "#mainly to check that ratings are between 0 to 5. See min and max.\n",
    "#no negative values except in lat and long\n",
    "df.describe().T"
   ]
  },
  {
   "cell_type": "markdown",
   "metadata": {},
   "source": [
    "## Convert Date to Datetime format for easy maipulation "
   ]
  },
  {
   "cell_type": "code",
   "execution_count": null,
   "metadata": {
    "collapsed": false
   },
   "outputs": [],
   "source": [
    " df['review_date'] = pd.to_datetime(df['review_date'])\n",
    "df['mnth_yr'] = df['review_date'].apply(lambda x: x.strftime('%B-%Y'))\n",
    "df.mnth_yr.head()"
   ]
  },
  {
   "cell_type": "markdown",
   "metadata": {},
   "source": [
    "## Explore top 5 rows of data"
   ]
  },
  {
   "cell_type": "code",
   "execution_count": null,
   "metadata": {
    "collapsed": false
   },
   "outputs": [],
   "source": [
    "df.head().T"
   ]
  },
  {
   "cell_type": "markdown",
   "metadata": {},
   "source": [
    "====================================================================================================================="
   ]
  },
  {
   "cell_type": "markdown",
   "metadata": {},
   "source": [
    "# Insights and Recommendations\n",
    "## 1. Business Metrics\n",
    "    - Current ratings is an overall number which could be misleading due to biased ratings. \n",
    "    - Sometimes businesses with bad ratings are improving but users dont see that. "
   ]
  },
  {
   "cell_type": "markdown",
   "metadata": {},
   "source": [
    "## For each business, display the ratings count so we know the breakdown"
   ]
  },
  {
   "cell_type": "code",
   "execution_count": 157,
   "metadata": {
    "collapsed": false
   },
   "outputs": [
    {
     "data": {
      "text/plain": [
       "107"
      ]
     },
     "execution_count": 157,
     "metadata": {},
     "output_type": "execute_result"
    },
    {
     "data": {
      "image/png": "[encoded data removed]",
      "text/plain": [
       "<matplotlib.figure.Figure at 0x12e250bd0>"
      ]
     },
     "metadata": {},
     "output_type": "display_data"
    }
   ],
   "source": [
    "#example, for business with id = '--pOlFxITWnhzc7SHSIP0A', display breakdown of review star ratings\n",
    "id = '--pOlFxITWnhzc7SHSIP0A'\n",
    "biz_name = df.loc[df['business_id'] == id,'business_name'].iloc[0]\n",
    "df.loc[df['business_id'] == id].plot.hist(y='review_stars',title='Distribution of review stars for biz: '+biz_name)\n",
    "len(df.loc[df['business_id'] == id])"
   ]
  },
  {
   "cell_type": "markdown",
   "metadata": {},
   "source": [
    "### Create a smaller Dataframe with only columns we need"
   ]
  },
  {
   "cell_type": "code",
   "execution_count": 167,
   "metadata": {
    "collapsed": false
   },
   "outputs": [
    {
     "data": {
      "text/html": [
       "<div>\n",
       "<table border=\"1\" class=\"dataframe\">\n",
       "  <thead>\n",
       "    <tr style=\"text-align: right;\">\n",
       "      <th></th>\n",
       "      <th>32799</th>\n",
       "      <th>32800</th>\n",
       "      <th>32801</th>\n",
       "      <th>32802</th>\n",
       "    </tr>\n",
       "  </thead>\n",
       "  <tbody>\n",
       "    <tr>\n",
       "      <th>business_id</th>\n",
       "      <td>0s-OY8GuWszGYSMDAMw6kQ</td>\n",
       "      <td>0s-OY8GuWszGYSMDAMw6kQ</td>\n",
       "      <td>0s-OY8GuWszGYSMDAMw6kQ</td>\n",
       "      <td>0s-OY8GuWszGYSMDAMw6kQ</td>\n",
       "    </tr>\n",
       "    <tr>\n",
       "      <th>review_stars</th>\n",
       "      <td>5</td>\n",
       "      <td>5</td>\n",
       "      <td>5</td>\n",
       "      <td>4</td>\n",
       "    </tr>\n",
       "    <tr>\n",
       "      <th>review_date</th>\n",
       "      <td>2010-12-24 00:00:00</td>\n",
       "      <td>2011-03-21 00:00:00</td>\n",
       "      <td>2012-07-22 00:00:00</td>\n",
       "      <td>2014-09-08 00:00:00</td>\n",
       "    </tr>\n",
       "    <tr>\n",
       "      <th>mnth_yr</th>\n",
       "      <td>December-2010</td>\n",
       "      <td>March-2011</td>\n",
       "      <td>July-2012</td>\n",
       "      <td>September-2014</td>\n",
       "    </tr>\n",
       "  </tbody>\n",
       "</table>\n",
       "</div>"
      ],
      "text/plain": [
       "                               32799                   32800  \\\n",
       "business_id   0s-OY8GuWszGYSMDAMw6kQ  0s-OY8GuWszGYSMDAMw6kQ   \n",
       "review_stars                       5                       5   \n",
       "review_date      2010-12-24 00:00:00     2011-03-21 00:00:00   \n",
       "mnth_yr                December-2010              March-2011   \n",
       "\n",
       "                               32801                   32802  \n",
       "business_id   0s-OY8GuWszGYSMDAMw6kQ  0s-OY8GuWszGYSMDAMw6kQ  \n",
       "review_stars                       5                       4  \n",
       "review_date      2012-07-22 00:00:00     2014-09-08 00:00:00  \n",
       "mnth_yr                    July-2012          September-2014  "
      ]
     },
     "execution_count": 167,
     "metadata": {},
     "output_type": "execute_result"
    }
   ],
   "source": [
    "df_biz = df[['business_id','review_stars','review_date','mnth_yr']]\n",
    "# df_biz.sort_values('review_date',ascending =1).plot.hist( 'business_stars', by = 'review_date')\n",
    "# df_biz['business_stars'].plot.hist(by = 'review_date')\n",
    "df_biz.loc[df_biz['business_id'] == '0s-OY8GuWszGYSMDAMw6kQ'].T"
   ]
  },
  {
   "cell_type": "markdown",
   "metadata": {},
   "source": [
    "## Look at average ratings over time per business so we know that they could be improving or not. "
   ]
  },
  {
   "cell_type": "code",
   "execution_count": 165,
   "metadata": {
    "collapsed": false,
    "scrolled": false
   },
   "outputs": [
    {
     "name": "stdout",
     "output_type": "stream",
     "text": [
      "There is 1381 unique businesses. \n"
     ]
    },
    {
     "data": {
      "image/png": "[encoded data removed]",
      "text/plain": [
       "<matplotlib.figure.Figure at 0x134b05210>"
      ]
     },
     "metadata": {},
     "output_type": "display_data"
    }
   ],
   "source": [
    "df2 = df_biz.groupby(['business_id','mnth_yr']).mean().reset_index()\n",
    "df2.loc[df2['business_id'] == id].plot.line(x='mnth_yr',y='review_stars', title = \"Avg Review Stars Over Time for business: \"+ biz_name)\n",
    "print \"There is \" + str(len(df2.business_id.unique())) + \" unique businesses. \""
   ]
  },
  {
   "cell_type": "markdown",
   "metadata": {},
   "source": [
    "## 2. Reviewer Metrics"
   ]
  },
  {
   "cell_type": "markdown",
   "metadata": {},
   "source": [
    "## Calculate the percentage of elite yelpers who reviewed a particular business"
   ]
  },
  {
   "cell_type": "code",
   "execution_count": 204,
   "metadata": {
    "collapsed": false
   },
   "outputs": [],
   "source": [
    "df_elite = df.groupby('business_id', as_index=False)['reviewer_currently_elite'].agg({'elite': 'sum', 'total': 'count'})\n",
    "df_elite.head()"
   ]
  },
  {
   "cell_type": "code",
   "execution_count": 208,
   "metadata": {
    "collapsed": false
   },
   "outputs": [
    {
     "data": {
      "text/html": [
       "<div>\n",
       "<table border=\"1\" class=\"dataframe\">\n",
       "  <thead>\n",
       "    <tr style=\"text-align: right;\">\n",
       "      <th></th>\n",
       "      <th>business_id</th>\n",
       "      <th>total</th>\n",
       "      <th>elite</th>\n",
       "      <th>percent_elites</th>\n",
       "    </tr>\n",
       "  </thead>\n",
       "  <tbody>\n",
       "    <tr>\n",
       "      <th>0</th>\n",
       "      <td>--pOlFxITWnhzc7SHSIP0A</td>\n",
       "      <td>107</td>\n",
       "      <td>27</td>\n",
       "      <td>25.0</td>\n",
       "    </tr>\n",
       "    <tr>\n",
       "      <th>1</th>\n",
       "      <td>-1JzlIdItrARuq2JW63rKA</td>\n",
       "      <td>59</td>\n",
       "      <td>8</td>\n",
       "      <td>14.0</td>\n",
       "    </tr>\n",
       "    <tr>\n",
       "      <th>2</th>\n",
       "      <td>-2NCvK5807Nxs9GUb2Eo1g</td>\n",
       "      <td>15</td>\n",
       "      <td>1</td>\n",
       "      <td>7.0</td>\n",
       "    </tr>\n",
       "    <tr>\n",
       "      <th>3</th>\n",
       "      <td>-5As9GrKDboz5N5eA2HRuA</td>\n",
       "      <td>9</td>\n",
       "      <td>2</td>\n",
       "      <td>22.0</td>\n",
       "    </tr>\n",
       "    <tr>\n",
       "      <th>4</th>\n",
       "      <td>-6j-KVPPX2xKjCruNO2HnQ</td>\n",
       "      <td>35</td>\n",
       "      <td>5</td>\n",
       "      <td>14.0</td>\n",
       "    </tr>\n",
       "  </tbody>\n",
       "</table>\n",
       "</div>"
      ],
      "text/plain": [
       "              business_id  total  elite  percent_elites\n",
       "0  --pOlFxITWnhzc7SHSIP0A    107     27            25.0\n",
       "1  -1JzlIdItrARuq2JW63rKA     59      8            14.0\n",
       "2  -2NCvK5807Nxs9GUb2Eo1g     15      1             7.0\n",
       "3  -5As9GrKDboz5N5eA2HRuA      9      2            22.0\n",
       "4  -6j-KVPPX2xKjCruNO2HnQ     35      5            14.0"
      ]
     },
     "execution_count": 208,
     "metadata": {},
     "output_type": "execute_result"
    }
   ],
   "source": [
    "df_elite['percent_elites'] = df_elite['elite']/df_elite['total']*100\n",
    "df_elite['percent_elites'] = df_elite['percent_elites'].round()\n",
    "df_elite.head()"
   ]
  },
  {
   "cell_type": "code",
   "execution_count": 171,
   "metadata": {
    "collapsed": false
   },
   "outputs": [
    {
     "data": {
      "text/html": [
       "<div>\n",
       "<table border=\"1\" class=\"dataframe\">\n",
       "  <thead>\n",
       "    <tr style=\"text-align: right;\">\n",
       "      <th></th>\n",
       "      <th>business_id</th>\n",
       "      <th>reviewer_id</th>\n",
       "      <th>reviewer_total_votes</th>\n",
       "      <th>reviewer_years_elite</th>\n",
       "      <th>reviewer_currently_elite</th>\n",
       "      <th>reviewer_average_stars</th>\n",
       "      <th>review_stars</th>\n",
       "    </tr>\n",
       "  </thead>\n",
       "  <tbody>\n",
       "    <tr>\n",
       "      <th>0</th>\n",
       "      <td>Gw5POFxBRoJxN_ZYhk6lgQ</td>\n",
       "      <td>whKpnugMnWTz3UjlrN71yg</td>\n",
       "      <td>0</td>\n",
       "      <td>3</td>\n",
       "      <td>0</td>\n",
       "      <td>3.87</td>\n",
       "      <td>4.0</td>\n",
       "    </tr>\n",
       "    <tr>\n",
       "      <th>1</th>\n",
       "      <td>Gw5POFxBRoJxN_ZYhk6lgQ</td>\n",
       "      <td>4522K1jh68XVpUsPh-5I7A</td>\n",
       "      <td>0</td>\n",
       "      <td>2</td>\n",
       "      <td>0</td>\n",
       "      <td>3.80</td>\n",
       "      <td>5.0</td>\n",
       "    </tr>\n",
       "    <tr>\n",
       "      <th>2</th>\n",
       "      <td>Gw5POFxBRoJxN_ZYhk6lgQ</td>\n",
       "      <td>FdaMP9RQHCY7WMFPq80LCg</td>\n",
       "      <td>0</td>\n",
       "      <td>5</td>\n",
       "      <td>1</td>\n",
       "      <td>3.67</td>\n",
       "      <td>4.0</td>\n",
       "    </tr>\n",
       "    <tr>\n",
       "      <th>3</th>\n",
       "      <td>Gw5POFxBRoJxN_ZYhk6lgQ</td>\n",
       "      <td>PM2jXrlVzik1jDwwahLJJQ</td>\n",
       "      <td>0</td>\n",
       "      <td>4</td>\n",
       "      <td>1</td>\n",
       "      <td>3.74</td>\n",
       "      <td>4.0</td>\n",
       "    </tr>\n",
       "    <tr>\n",
       "      <th>4</th>\n",
       "      <td>Gw5POFxBRoJxN_ZYhk6lgQ</td>\n",
       "      <td>naBs2Kg2KClrKcoRgFE2eA</td>\n",
       "      <td>0</td>\n",
       "      <td>3</td>\n",
       "      <td>0</td>\n",
       "      <td>3.69</td>\n",
       "      <td>3.0</td>\n",
       "    </tr>\n",
       "  </tbody>\n",
       "</table>\n",
       "</div>"
      ],
      "text/plain": [
       "              business_id             reviewer_id  reviewer_total_votes  \\\n",
       "0  Gw5POFxBRoJxN_ZYhk6lgQ  whKpnugMnWTz3UjlrN71yg                     0   \n",
       "1  Gw5POFxBRoJxN_ZYhk6lgQ  4522K1jh68XVpUsPh-5I7A                     0   \n",
       "2  Gw5POFxBRoJxN_ZYhk6lgQ  FdaMP9RQHCY7WMFPq80LCg                     0   \n",
       "3  Gw5POFxBRoJxN_ZYhk6lgQ  PM2jXrlVzik1jDwwahLJJQ                     0   \n",
       "4  Gw5POFxBRoJxN_ZYhk6lgQ  naBs2Kg2KClrKcoRgFE2eA                     0   \n",
       "\n",
       "   reviewer_years_elite  reviewer_currently_elite  reviewer_average_stars  \\\n",
       "0                     3                         0                    3.87   \n",
       "1                     2                         0                    3.80   \n",
       "2                     5                         1                    3.67   \n",
       "3                     4                         1                    3.74   \n",
       "4                     3                         0                    3.69   \n",
       "\n",
       "   review_stars  \n",
       "0           4.0  \n",
       "1           5.0  \n",
       "2           4.0  \n",
       "3           4.0  \n",
       "4           3.0  "
      ]
     },
     "execution_count": 171,
     "metadata": {},
     "output_type": "execute_result"
    }
   ],
   "source": [
    "# Create another smaller dataframe with only columns about reviewer\n",
    "df_reviewer = df[['business_id','reviewer_id','reviewer_total_votes','reviewer_years_elite','reviewer_currently_elite','reviewer_average_stars','review_stars']]\n",
    "df3 = df_reviewer.groupby('business_id', as_index=False)['reviewer_currently_elite'].agg({'reviewer_currently_elite': 'sum', 'total': 'count'})\n",
    "df3['percent_by_current_elites'] = df3['reviewer_currently_elite']/df3['total'] *100\n",
    "df3['percent_by_current_elites'] = df3['percent_by_current_elites'].round()\n",
    "df_reviewer.head()"
   ]
  },
  {
   "cell_type": "markdown",
   "metadata": {},
   "source": [
    "## Rating Vs Avg Rating\n",
    "- If more reviewers give a rating that is higher than the reviewer's average rating, this business could be good. "
   ]
  },
  {
   "cell_type": "code",
   "execution_count": 179,
   "metadata": {
    "collapsed": false
   },
   "outputs": [],
   "source": [
    "#run only once. do not delete\n",
    "# df_reviewer['score_gt_avg'] = df_reviewer.review_stars > df.reviewer_average_stars\n",
    "# df4 = df_reviewer.groupby('business_id')['score_gt_avg'].agg([('score_gt_avg', 'sum'),('total', 'count')]).reset_index()"
   ]
  },
  {
   "cell_type": "markdown",
   "metadata": {},
   "source": [
    "## Percentage of reviewers that gave a score higher than their average ratings per business"
   ]
  },
  {
   "cell_type": "code",
   "execution_count": 199,
   "metadata": {
    "collapsed": false,
    "scrolled": true
   },
   "outputs": [
    {
     "data": {
      "text/html": [
       "<div>\n",
       "<table border=\"1\" class=\"dataframe\">\n",
       "  <thead>\n",
       "    <tr style=\"text-align: right;\">\n",
       "      <th></th>\n",
       "      <th>business_id</th>\n",
       "      <th>score_gt_avg</th>\n",
       "      <th>total</th>\n",
       "      <th>pct_gt_ratings</th>\n",
       "    </tr>\n",
       "  </thead>\n",
       "  <tbody>\n",
       "    <tr>\n",
       "      <th>0</th>\n",
       "      <td>--pOlFxITWnhzc7SHSIP0A</td>\n",
       "      <td>60.0</td>\n",
       "      <td>107</td>\n",
       "      <td>56.0</td>\n",
       "    </tr>\n",
       "    <tr>\n",
       "      <th>1</th>\n",
       "      <td>-1JzlIdItrARuq2JW63rKA</td>\n",
       "      <td>35.0</td>\n",
       "      <td>59</td>\n",
       "      <td>59.0</td>\n",
       "    </tr>\n",
       "    <tr>\n",
       "      <th>2</th>\n",
       "      <td>-2NCvK5807Nxs9GUb2Eo1g</td>\n",
       "      <td>7.0</td>\n",
       "      <td>15</td>\n",
       "      <td>47.0</td>\n",
       "    </tr>\n",
       "    <tr>\n",
       "      <th>3</th>\n",
       "      <td>-5As9GrKDboz5N5eA2HRuA</td>\n",
       "      <td>2.0</td>\n",
       "      <td>9</td>\n",
       "      <td>22.0</td>\n",
       "    </tr>\n",
       "    <tr>\n",
       "      <th>4</th>\n",
       "      <td>-6j-KVPPX2xKjCruNO2HnQ</td>\n",
       "      <td>7.0</td>\n",
       "      <td>35</td>\n",
       "      <td>20.0</td>\n",
       "    </tr>\n",
       "  </tbody>\n",
       "</table>\n",
       "</div>"
      ],
      "text/plain": [
       "              business_id  score_gt_avg  total  pct_gt_ratings\n",
       "0  --pOlFxITWnhzc7SHSIP0A          60.0    107            56.0\n",
       "1  -1JzlIdItrARuq2JW63rKA          35.0     59            59.0\n",
       "2  -2NCvK5807Nxs9GUb2Eo1g           7.0     15            47.0\n",
       "3  -5As9GrKDboz5N5eA2HRuA           2.0      9            22.0\n",
       "4  -6j-KVPPX2xKjCruNO2HnQ           7.0     35            20.0"
      ]
     },
     "execution_count": 199,
     "metadata": {},
     "output_type": "execute_result"
    }
   ],
   "source": [
    "# df4 = df4.reset_index() ## do only once\n",
    "# df4.drop('level_0',1,inplace = True) ## drop unecessary columns\n",
    "df4['pct_gt_ratings'] = df4['score_gt_avg']/df4['total']*100\n",
    "df4 = df4.round()\n",
    "df4.head()"
   ]
  },
  {
   "cell_type": "markdown",
   "metadata": {},
   "source": [
    "====================================================================================================================="
   ]
  },
  {
   "cell_type": "markdown",
   "metadata": {},
   "source": [
    "\n",
    "## 3. Prepare data for Topic analysis\n",
    "- Many times, reviewers give low ratings even when overall quality of a business is good. We want to understand if we can breakdown the review into Topics (E.g Service, Ambience, Food etc) so reviewers can rate on each aspect instead of overall so the business rating will not be biased. \n",
    "- Below, we will try to find out what these key aspects that we can break down the reviews into. "
   ]
  },
  {
   "cell_type": "markdown",
   "metadata": {},
   "source": [
    "## Gather all reviews with ratings < 2 stars"
   ]
  },
  {
   "cell_type": "code",
   "execution_count": 212,
   "metadata": {
    "collapsed": false
   },
   "outputs": [
    {
     "name": "stdout",
     "output_type": "stream",
     "text": [
      "['Cream cheese skimp alert!! We pay ~$7 per smoked salmon bagel and they put the cream cheese on like people butter their toast. They have no clue what the word \"toasted\" means. It really is just warming the bagel. The lox bagels are not even made open face. Not going back again.', \"I almost hate writing this review, because Green's is such a Charlotte institution. I almost feel like I'm dissing my adopted city by saying this, but I just don't see what the big deal is about this place. When I first moved here everyone talked about how the hot dogs were as good as The Varsity in Atlanta. News tip: they aren't, and they aren't by a longshot. What's worse, the three or four times I've eaten there the food has been lukewarm and inconsistent. Maybe the hot dog is cold, but the chili is hot. I dunno... I WANT to like this place, but just can't.\"]\n",
      "\n",
      "Total number of low reviews: 3813\n"
     ]
    }
   ],
   "source": [
    "# id = 'z_V32f1tNYLXe8VD589vPg'\n",
    "# low_ratings_text_biz = df.loc[(df['review_stars']) < 2 & (df['business_id'] == id), 'review_text'].values.tolist()\n",
    "low_ratings_text = df.loc[(df['review_stars']) < 2, 'review_text'].values.tolist()\n",
    "print low_ratings_text[:2]\n",
    "print \n",
    "print \"Total number of low reviews: \" + str(len(low_ratings_text))"
   ]
  },
  {
   "cell_type": "markdown",
   "metadata": {},
   "source": [
    "## Clean Text Data\n",
    "- Remove stopwords\n",
    "- Stem Words\n",
    "- remove punctuations"
   ]
  },
  {
   "cell_type": "code",
   "execution_count": 147,
   "metadata": {
    "collapsed": true
   },
   "outputs": [],
   "source": [
    "from nltk.corpus import stopwords \n",
    "from nltk.stem.wordnet import WordNetLemmatizer\n",
    "import string\n",
    "stop = set(stopwords.words('english'))\n",
    "exclude = set(string.punctuation) \n",
    "lemma = WordNetLemmatizer()"
   ]
  },
  {
   "cell_type": "code",
   "execution_count": 148,
   "metadata": {
    "collapsed": true
   },
   "outputs": [],
   "source": [
    "def clean(doc):\n",
    "    doc = doc.decode('utf-8')\n",
    "    stop_free = \" \".join([i for i in doc.lower().split() if i not in stop])\n",
    "    punc_free = ''.join(ch for ch in stop_free if ch not in exclude)\n",
    "    normalized = \" \".join(lemma.lemmatize(word) for word in punc_free.split())\n",
    "    return normalized"
   ]
  },
  {
   "cell_type": "code",
   "execution_count": 149,
   "metadata": {
    "collapsed": false
   },
   "outputs": [],
   "source": [
    "doc_clean = [clean(doc).split() for doc in low_ratings_text]        "
   ]
  },
  {
   "cell_type": "markdown",
   "metadata": {},
   "source": [
    "## Output a list of list of terms\n",
    "- Each review is broken down into tokens with key terms"
   ]
  },
  {
   "cell_type": "code",
   "execution_count": 150,
   "metadata": {
    "collapsed": false
   },
   "outputs": [
    {
     "data": {
      "text/plain": [
       "[[u'cream',\n",
       "  u'cheese',\n",
       "  u'skimp',\n",
       "  u'alert',\n",
       "  u'pay',\n",
       "  u'7',\n",
       "  u'per',\n",
       "  u'smoked',\n",
       "  u'salmon',\n",
       "  u'bagel',\n",
       "  u'put',\n",
       "  u'cream',\n",
       "  u'cheese',\n",
       "  u'like',\n",
       "  u'people',\n",
       "  u'butter',\n",
       "  u'toast',\n",
       "  u'clue',\n",
       "  u'word',\n",
       "  u'toasted',\n",
       "  u'mean',\n",
       "  u'really',\n",
       "  u'warming',\n",
       "  u'bagel',\n",
       "  u'lox',\n",
       "  u'bagel',\n",
       "  u'even',\n",
       "  u'made',\n",
       "  u'open',\n",
       "  u'face',\n",
       "  u'going',\n",
       "  u'back',\n",
       "  u'again'],\n",
       " [u'almost',\n",
       "  u'hate',\n",
       "  u'writing',\n",
       "  u'review',\n",
       "  u'green',\n",
       "  u'charlotte',\n",
       "  u'institution',\n",
       "  u'almost',\n",
       "  u'feel',\n",
       "  u'like',\n",
       "  u'im',\n",
       "  u'dissing',\n",
       "  u'adopted',\n",
       "  u'city',\n",
       "  u'saying',\n",
       "  u'this',\n",
       "  u'dont',\n",
       "  u'see',\n",
       "  u'big',\n",
       "  u'deal',\n",
       "  u'place',\n",
       "  u'first',\n",
       "  u'moved',\n",
       "  u'everyone',\n",
       "  u'talked',\n",
       "  u'hot',\n",
       "  u'dog',\n",
       "  u'good',\n",
       "  u'varsity',\n",
       "  u'atlanta',\n",
       "  u'news',\n",
       "  u'tip',\n",
       "  u'arent',\n",
       "  u'arent',\n",
       "  u'longshot',\n",
       "  u'whats',\n",
       "  u'worse',\n",
       "  u'three',\n",
       "  u'four',\n",
       "  u'time',\n",
       "  u'ive',\n",
       "  u'eaten',\n",
       "  u'food',\n",
       "  u'lukewarm',\n",
       "  u'inconsistent',\n",
       "  u'maybe',\n",
       "  u'hot',\n",
       "  u'dog',\n",
       "  u'cold',\n",
       "  u'chili',\n",
       "  u'hot',\n",
       "  u'dunno',\n",
       "  u'want',\n",
       "  u'like',\n",
       "  u'place',\n",
       "  u'cant'],\n",
       " [u'little',\n",
       "  u'confused',\n",
       "  u'here',\n",
       "  u'tried',\n",
       "  u'get',\n",
       "  u'hot',\n",
       "  u'dog',\n",
       "  u'cart',\n",
       "  u'outside',\n",
       "  u'fargo',\n",
       "  u'last',\n",
       "  u'week',\n",
       "  u'lady',\n",
       "  u'saw',\n",
       "  u'coming',\n",
       "  u'she',\n",
       "  u'cell',\n",
       "  u'phone',\n",
       "  u'hid',\n",
       "  u'behind',\n",
       "  u'grill',\n",
       "  u'didnt',\n",
       "  u'address',\n",
       "  u'me',\n",
       "  u'walked',\n",
       "  u'away',\n",
       "  u'went',\n",
       "  u'another',\n",
       "  u'dog',\n",
       "  u'stand',\n",
       "  u'way',\n",
       "  u'normally',\n",
       "  u'business',\n",
       "  u'hot',\n",
       "  u'dog',\n",
       "  u'cart'],\n",
       " [u'one',\n",
       "  u'place',\n",
       "  u'hype',\n",
       "  u'bigger',\n",
       "  u'reality',\n",
       "  u'sure',\n",
       "  u'it',\n",
       "  u'institution',\n",
       "  u'business',\n",
       "  u'somehow',\n",
       "  u'survived',\n",
       "  u'time',\n",
       "  u'without',\n",
       "  u'changing',\n",
       "  u'decor',\n",
       "  u'decade',\n",
       "  u'hot',\n",
       "  u'dog',\n",
       "  u'arent',\n",
       "  u'impressive',\n",
       "  u'all',\n",
       "  u'actually',\n",
       "  u'quite',\n",
       "  u'disappointed',\n",
       "  u'them',\n",
       "  u'order',\n",
       "  u'got',\n",
       "  u'two',\n",
       "  u'carolina',\n",
       "  u'style',\n",
       "  u'dog',\n",
       "  u'mustard',\n",
       "  u'onion',\n",
       "  u'slaw',\n",
       "  u'chili',\n",
       "  u'fry',\n",
       "  u'drink',\n",
       "  u'drink',\n",
       "  u'inundated',\n",
       "  u'ton',\n",
       "  u'ice',\n",
       "  u'quickly',\n",
       "  u'water',\n",
       "  u'flavor',\n",
       "  u'soda',\n",
       "  u'may',\n",
       "  u'had',\n",
       "  u'fry',\n",
       "  u'soso',\n",
       "  u'nothing',\n",
       "  u'fancy',\n",
       "  u'crinklecut',\n",
       "  u'dog',\n",
       "  u'disappointing',\n",
       "  u'since',\n",
       "  u'hot',\n",
       "  u'dog',\n",
       "  u'cooked',\n",
       "  u'water',\n",
       "  u'pot',\n",
       "  u'dried',\n",
       "  u'little',\n",
       "  u'putting',\n",
       "  u'bun',\n",
       "  u'well',\n",
       "  u'didnt',\n",
       "  u'soggy',\n",
       "  u'bun',\n",
       "  u'result',\n",
       "  u'slaw',\n",
       "  u'chili',\n",
       "  u'didnt',\n",
       "  u'real',\n",
       "  u'flavor',\n",
       "  u'probably',\n",
       "  u'would',\n",
       "  u'better',\n",
       "  u'without',\n",
       "  u'mess',\n",
       "  u'overall',\n",
       "  u'couldnt',\n",
       "  u'finish',\n",
       "  u'dog',\n",
       "  u'got',\n",
       "  u'messy',\n",
       "  u'tasted',\n",
       "  u'blah',\n",
       "  u'wet',\n",
       "  u'bun',\n",
       "  u'honestly',\n",
       "  u'better',\n",
       "  u'hot',\n",
       "  u'dog',\n",
       "  u'green',\n",
       "  u'lunch',\n",
       "  u'cart',\n",
       "  u'located',\n",
       "  u'front',\n",
       "  u'well',\n",
       "  u'fargo',\n",
       "  u'actual',\n",
       "  u'location',\n",
       "  u'price',\n",
       "  u'same',\n",
       "  u'cheap',\n",
       "  u'lady',\n",
       "  u'doesnt',\n",
       "  u'mess',\n",
       "  u'around',\n",
       "  u'soggy',\n",
       "  u'bun',\n",
       "  u'want',\n",
       "  u'green',\n",
       "  u'lunch',\n",
       "  u'go',\n",
       "  u'cart',\n",
       "  u'establishment',\n",
       "  u'overall',\n",
       "  u'better',\n",
       "  u'hot',\n",
       "  u'dog',\n",
       "  u'place',\n",
       "  u'uptown',\n",
       "  u'though',\n",
       "  u'cost',\n",
       "  u'more'],\n",
       " [u'bad',\n",
       "  u'food',\n",
       "  u'bug',\n",
       "  u'problem',\n",
       "  u'neighborhood',\n",
       "  u'full',\n",
       "  u'homeless',\n",
       "  u'roaming',\n",
       "  u'street',\n",
       "  u'like',\n",
       "  u'zombie']]"
      ]
     },
     "execution_count": 150,
     "metadata": {},
     "output_type": "execute_result"
    }
   ],
   "source": [
    "doc_clean[:5]"
   ]
  },
  {
   "cell_type": "code",
   "execution_count": 151,
   "metadata": {
    "collapsed": true
   },
   "outputs": [],
   "source": [
    "import gensim\n",
    "from gensim import corpora"
   ]
  },
  {
   "cell_type": "code",
   "execution_count": 152,
   "metadata": {
    "collapsed": false
   },
   "outputs": [],
   "source": [
    "# Create the term dictionary of corpus, where every unique term is assigned an index.\n",
    "# Converting list of documents (corpus) into Document Term Matrix using dictionary\n",
    "dictionary = corpora.Dictionary(doc_clean)\n",
    "doc_term_matrix = [dictionary.doc2bow(doc) for doc in doc_clean]"
   ]
  },
  {
   "cell_type": "code",
   "execution_count": 134,
   "metadata": {
    "collapsed": true
   },
   "outputs": [],
   "source": [
    "# Creating the object for LDA model using gensim library\n",
    "Lda = gensim.models.ldamodel.LdaModel"
   ]
  },
  {
   "cell_type": "code",
   "execution_count": 213,
   "metadata": {
    "collapsed": true
   },
   "outputs": [],
   "source": [
    "#Manually set 15 topics\n",
    "ldamodel = Lda(doc_term_matrix, num_topics=15, id2word = dictionary, passes=50)"
   ]
  },
  {
   "cell_type": "code",
   "execution_count": 218,
   "metadata": {
    "collapsed": false
   },
   "outputs": [
    {
     "name": "stdout",
     "output_type": "stream",
     "text": [
      "TOPIC 0: (6, u'0.023*order + 0.016*customer + 0.012*it + 0.012*dont + 0.010*get + 0.010*time + 0.008*said + 0.008*place + 0.008*like + 0.007*business')\n",
      "TOPIC 1: (4, u'0.013*card + 0.009*mushroom + 0.007*egg + 0.005*receipt + 0.005*juice + 0.005*credit + 0.004*sandwich + 0.004*coffee + 0.004*roach + 0.004*man')\n",
      "TOPIC 2: (3, u'0.069*wing + 0.009*wild + 0.006*buffalo + 0.006*sauce + 0.006*sashimi + 0.006*sushi + 0.006*ring + 0.005*turn + 0.005*toro + 0.005*impressed')\n",
      "TOPIC 3: (2, u'0.020*taco + 0.015*food + 0.015*good + 0.013*ordered + 0.012*steak + 0.011*chip + 0.010*restaurant + 0.010*shrimp + 0.009*fish + 0.009*meal')\n",
      "TOPIC 4: (9, u'0.015*food + 0.015*u + 0.012*table + 0.012*minute + 0.012*time + 0.010*service + 0.010*back + 0.010*order + 0.009*get + 0.009*one')\n",
      "TOPIC 5: (14, u'0.008*people + 0.008*like + 0.007*bagel + 0.007*wing + 0.007*beer + 0.006*place + 0.005*know + 0.005*better + 0.005*great + 0.005*one')\n",
      "TOPIC 6: (7, u'0.017*food + 0.014*time + 0.014*place + 0.012*like + 0.011*it + 0.008*bad + 0.007*good + 0.007*dont + 0.007*one + 0.007*would')\n",
      "TOPIC 7: (5, u'0.024*food + 0.019*place + 0.011*it + 0.011*dont + 0.009*good + 0.008*go + 0.007*know + 0.007*one + 0.007*service + 0.007*like')\n",
      "TOPIC 8: (10, u'0.019*chicken + 0.012*ordered + 0.012*rice + 0.012*roll + 0.010*like + 0.009*dish + 0.009*soup + 0.008*sauce + 0.007*food + 0.006*order')\n",
      "TOPIC 9: (0, u'0.025*manager + 0.016*said + 0.015*would + 0.015*told + 0.015*asked + 0.011*called + 0.010*didnt + 0.009*customer + 0.009*never + 0.007*back')\n"
     ]
    }
   ],
   "source": [
    "result = ldamodel.print_topics( num_words=10)\n",
    "for i,l in enumerate(result):\n",
    "    print \"TOPIC \"+ str(i) + \":\",l"
   ]
  },
  {
   "cell_type": "code",
   "execution_count": null,
   "metadata": {
    "collapsed": true
   },
   "outputs": [],
   "source": []
  }
 ],
 "metadata": {
  "kernelspec": {
   "display_name": "Python 2",
   "language": "python",
   "name": "python2"
  },
  "language_info": {
   "codemirror_mode": {
    "name": "ipython",
    "version": 2
   },
   "file_extension": ".py",
   "mimetype": "text/x-python",
   "name": "python",
   "nbconvert_exporter": "python",
   "pygments_lexer": "ipython2",
   "version": "2.7.11"
  }
 },
 "nbformat": 4,
 "nbformat_minor": 0
}
